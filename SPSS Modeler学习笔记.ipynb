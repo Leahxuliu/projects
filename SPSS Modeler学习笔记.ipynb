{
 "cells": [
  {
   "cell_type": "markdown",
   "metadata": {},
   "source": [
    "导入的文件里选择data类型\n",
    "\n",
    "\n",
    "在 Python 脚本编制中，变量在首次引用时进行创建，例如: mynode = stream.createAt(\"type\", \"Type\", 96, 96)"
   ]
  },
  {
   "cell_type": "code",
   "execution_count": null,
   "metadata": {},
   "outputs": [],
   "source": [
    "stream = modeler.script.stream()\n",
    "filenode = stream.createAt(\"variablefile\", \"My File Input \", 96, 64)\n",
    "filternode = stream.createAt(\"filter\", \"Filter\", 192, 64)\n",
    "tablenode = stream.createAt(\"table\", \"Table\", 288, 64)\n",
    "stream.link(filenode, filternode)\n",
    "stream.link(filternode, tablenode)\n",
    "filenode.setPropertyValue(\"full_filename\", \"$CLEO_DEMOS/DRUG1n\")\n",
    "filternode.setKeyedPropertyValue(\"include\", \"Drug\", False)\n",
    "results = []\n",
    "tablenode.run(results)"
   ]
  },
  {
   "cell_type": "markdown",
   "metadata": {},
   "source": [
    "stream = modeler.script.stream()\n",
    "\n",
    "# createAt\n",
    "\n",
    "**stream.createAt(\"type\", \"name\", x, y)**\n",
    "\n",
    "## variablefile\n",
    "* filenode = stream.createAt(\"variablefile\", \"My File Input \", 96, 64)  \n",
    "* 类型\n",
    "* 名字\n",
    "* 页面内，插入位置的x轴和y轴\n",
    "\n",
    "* filenode.setPropertyValue(\"full_filename\", \"/CLEO_DEMOS/DRUG1n\") \n",
    "* 打开文件\n",
    "\n",
    "## filter\n",
    "* stream.createAt(\"filter\", \"Filter\", 192, 64)\n",
    "\n",
    "## table\n",
    "* stream.createAt(\"table\", \"Table\", 288, 64)\n",
    "\n",
    "## aggregate\n",
    "aggregatenode = stream.createAt(\"aggregate\", \"Aggregate\", 192, 96) \n",
    "\n",
    "# link\n",
    "stream.link(filenode, filternode)"
   ]
  },
  {
   "cell_type": "markdown",
   "metadata": {},
   "source": [
    "# 查找\n",
    "stream = modeler.script.stream()\n",
    "node = stream.findByType(\"filter\", \"filter\")   类型 / 名字\n",
    "node = stream.findByType(\"filter\", None)\n",
    "node.setKeyedPropertyValue(\"include\", \"Age\", False)\n"
   ]
  },
  {
   "cell_type": "markdown",
   "metadata": {},
   "source": [
    "# 执行\n",
    "\n",
    "**OBJECT.setKeyedPropertyValue(PROPERTY, KEY, VALUE**   \n",
    "* filternode.setKeyedPropertyValue(\"include\", \"Drug\", False)  除了Drug列，别的都include\n",
    "* setKeyedPropertyValue(\"new_name\", \"NewVar\", \"Mixed Drugs\")  换名字，NewVar那一列换成Mixed Drugs"
   ]
  },
  {
   "cell_type": "markdown",
   "metadata": {},
   "source": [
    "# 全局\n",
    "* 画面上的都跑\n",
    "stream = modeler.script.stream()\n",
    "stream.runAll(None)"
   ]
  },
  {
   "cell_type": "code",
   "execution_count": null,
   "metadata": {},
   "outputs": [],
   "source": []
  },
  {
   "cell_type": "markdown",
   "metadata": {},
   "source": [
    "# variablefilenode 属性\n",
    "\n",
    "* 90页"
   ]
  },
  {
   "cell_type": "code",
   "execution_count": null,
   "metadata": {},
   "outputs": [],
   "source": [
    "node = stream.create(\"variablefile\", \"My node\")\n",
    "node.setPropertyValue(\"full_filename\", \"$CLEO_DEMOS/DRUG1n\")\n",
    "node.setPropertyValue(\"read_field_names\", True)\n",
    "node.setPropertyValue(\"delimit_other\", True) \n",
    "node.setPropertyValue(\"other\", \",\") \n",
    "node.setPropertyValue(\"quotes_1\", \"Discard\") \n",
    "node.setPropertyValue(\"decimal_symbol\", \"Comma\") \n",
    "node.setPropertyValue(\"invalid_char_mode\", \"Replace\") \n",
    "node.setPropertyValue(\"invalid_char_replacement\", \"|\") \n",
    "node.setKeyedPropertyValue(\"use_custom_values\", \"Age\", True) \n",
    "node.setKeyedPropertyValue(\"direction\", \"Age\", \"Input\") \n",
    "node.setKeyedPropertyValue(\"type\", \"Age\", \"Range\") \n",
    "node.setKeyedPropertyValue(\"values\", \"Age\", [1, 100])"
   ]
  },
  {
   "cell_type": "markdown",
   "metadata": {},
   "source": [
    "# filternode属性 过滤器\n",
    "\n",
    "* 129页 \n",
    "\n",
    "## default_include 属性\n",
    "\n",
    "## include\n",
    "\n",
    "## new_name"
   ]
  },
  {
   "cell_type": "code",
   "execution_count": null,
   "metadata": {},
   "outputs": [],
   "source": [
    "node = stream.create(\"filter\", \"My node\") \n",
    "node.setPropertyValue(\"default_include\", True) \n",
    "node.setKeyedPropertyValue(\"new_name\", \"Drug\", \"Chemical\") \n",
    "node.setKeyedPropertyValue(\"include\", \"Drug\", False)"
   ]
  },
  {
   "cell_type": "code",
   "execution_count": null,
   "metadata": {},
   "outputs": [],
   "source": []
  },
  {
   "cell_type": "markdown",
   "metadata": {},
   "source": [
    "# typenode 属性\n",
    "\n",
    "* 141页"
   ]
  },
  {
   "cell_type": "code",
   "execution_count": null,
   "metadata": {},
   "outputs": [],
   "source": []
  },
  {
   "cell_type": "markdown",
   "metadata": {},
   "source": [
    "# aggregatenode 属性\n",
    "\n",
    "* 95页"
   ]
  },
  {
   "cell_type": "code",
   "execution_count": null,
   "metadata": {},
   "outputs": [],
   "source": []
  },
  {
   "cell_type": "markdown",
   "metadata": {},
   "source": [
    "# mergenode 属性\n",
    "\n",
    "* 104页\n"
   ]
  },
  {
   "cell_type": "code",
   "execution_count": null,
   "metadata": {},
   "outputs": [],
   "source": []
  },
  {
   "cell_type": "code",
   "execution_count": null,
   "metadata": {},
   "outputs": [],
   "source": []
  },
  {
   "cell_type": "markdown",
   "metadata": {},
   "source": [
    "# selectnode 属性\n",
    "\n",
    "* 109页"
   ]
  },
  {
   "cell_type": "code",
   "execution_count": null,
   "metadata": {},
   "outputs": [],
   "source": []
  },
  {
   "cell_type": "markdown",
   "metadata": {},
   "source": [
    "# fillernode 属性 （填充/置换）\n",
    "\n",
    "* 128页\n",
    "* 在原本的列上进行修改\n"
   ]
  },
  {
   "cell_type": "code",
   "execution_count": null,
   "metadata": {},
   "outputs": [],
   "source": []
  },
  {
   "cell_type": "markdown",
   "metadata": {},
   "source": [
    "# derivenode 属性 导出　フィールド作成\n",
    "\n",
    "* 125页"
   ]
  }
 ],
 "metadata": {
  "kernelspec": {
   "display_name": "Python 3",
   "language": "python",
   "name": "python3"
  },
  "language_info": {
   "codemirror_mode": {
    "name": "ipython",
    "version": 3
   },
   "file_extension": ".py",
   "mimetype": "text/x-python",
   "name": "python",
   "nbconvert_exporter": "python",
   "pygments_lexer": "ipython3",
   "version": "3.7.3"
  },
  "toc": {
   "base_numbering": 1,
   "nav_menu": {},
   "number_sections": true,
   "sideBar": true,
   "skip_h1_title": false,
   "title_cell": "Table of Contents",
   "title_sidebar": "Contents",
   "toc_cell": false,
   "toc_position": {},
   "toc_section_display": true,
   "toc_window_display": true
  }
 },
 "nbformat": 4,
 "nbformat_minor": 4
}
