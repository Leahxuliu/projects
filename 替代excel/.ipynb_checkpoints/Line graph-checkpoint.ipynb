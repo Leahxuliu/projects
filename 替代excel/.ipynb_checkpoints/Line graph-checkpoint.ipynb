{
 "cells": [
  {
   "cell_type": "markdown",
   "metadata": {},
   "source": [
    "* Line graph\n",
    "* 折れ線グラフ\n",
    "\n",
    "# 知识点\n",
    "\n",
    "* go.Scatter\n",
    "* <span class=\"mark\">index_col=0</span> 第一列为index值\n",
    "* <span class=\"mark\">df.columns 取行名</span>\n",
    "* <span class=\"mark\">df.index 取列名</span>\n",
    "* encoding='utf-8'\n",
    "* mode\n",
    "    * mode = 'lines'  \n",
    "    * mode = 'lines + markers'\n",
    "    * mode = 'markers'\n",
    "* showline = True/False x，y轴的实线\n",
    "* showgrid = True/False 虚线 \n",
    "* xaxis=dict(showgrid = False)\n",
    "* yaxis=dict(showgrid = True)"
   ]
  },
  {
   "cell_type": "code",
   "execution_count": 71,
   "metadata": {
    "scrolled": true
   },
   "outputs": [
    {
     "data": {
      "text/html": [
       "<div>\n",
       "<style scoped>\n",
       "    .dataframe tbody tr th:only-of-type {\n",
       "        vertical-align: middle;\n",
       "    }\n",
       "\n",
       "    .dataframe tbody tr th {\n",
       "        vertical-align: top;\n",
       "    }\n",
       "\n",
       "    .dataframe thead th {\n",
       "        text-align: right;\n",
       "    }\n",
       "</style>\n",
       "<table border=\"1\" class=\"dataframe\">\n",
       "  <thead>\n",
       "    <tr style=\"text-align: right;\">\n",
       "      <th></th>\n",
       "      <th>4月</th>\n",
       "      <th>5月</th>\n",
       "      <th>6月</th>\n",
       "      <th>7月</th>\n",
       "      <th>8月</th>\n",
       "      <th>9月</th>\n",
       "    </tr>\n",
       "  </thead>\n",
       "  <tbody>\n",
       "    <tr>\n",
       "      <th>日本</th>\n",
       "      <td>400</td>\n",
       "      <td>650</td>\n",
       "      <td>900</td>\n",
       "      <td>1100</td>\n",
       "      <td>1450</td>\n",
       "      <td>1900</td>\n",
       "    </tr>\n",
       "    <tr>\n",
       "      <th>米国</th>\n",
       "      <td>450</td>\n",
       "      <td>300</td>\n",
       "      <td>300</td>\n",
       "      <td>450</td>\n",
       "      <td>900</td>\n",
       "      <td>1100</td>\n",
       "    </tr>\n",
       "    <tr>\n",
       "      <th>欧州</th>\n",
       "      <td>250</td>\n",
       "      <td>400</td>\n",
       "      <td>500</td>\n",
       "      <td>550</td>\n",
       "      <td>600</td>\n",
       "      <td>700</td>\n",
       "    </tr>\n",
       "    <tr>\n",
       "      <th>中国</th>\n",
       "      <td>100</td>\n",
       "      <td>800</td>\n",
       "      <td>450</td>\n",
       "      <td>300</td>\n",
       "      <td>300</td>\n",
       "      <td>450</td>\n",
       "    </tr>\n",
       "    <tr>\n",
       "      <th>インド</th>\n",
       "      <td>600</td>\n",
       "      <td>100</td>\n",
       "      <td>250</td>\n",
       "      <td>400</td>\n",
       "      <td>500</td>\n",
       "      <td>550</td>\n",
       "    </tr>\n",
       "  </tbody>\n",
       "</table>\n",
       "</div>"
      ],
      "text/plain": [
       "      4月   5月   6月    7月    8月    9月\n",
       "日本   400  650  900  1100  1450  1900\n",
       "米国   450  300  300   450   900  1100\n",
       "欧州   250  400  500   550   600   700\n",
       "中国   100  800  450   300   300   450\n",
       "インド  600  100  250   400   500   550"
      ]
     },
     "execution_count": 71,
     "metadata": {},
     "output_type": "execute_result"
    }
   ],
   "source": [
    "import pandas as pd\n",
    "import numpy as np\n",
    "\n",
    "#读取数据\n",
    "df = pd.read_excel('/Users/leah/Documents/CS/Jupyter/projects/替代excel/test.xlsx',sheet_name='Sheet2',encoding='utf-8',index_col=0)\n",
    "#df=pd.read_csv('seaborn.csv',sep=',',encoding='utf-8',index_col=0)\n",
    "#index_col=0——第一列为index值\n",
    "#展示数据\n",
    "df.head()"
   ]
  },
  {
   "cell_type": "code",
   "execution_count": 70,
   "metadata": {},
   "outputs": [
    {
     "name": "stdout",
     "output_type": "stream",
     "text": [
      "Index(['4月', '5月', '6月', '7月', '8月', '9月'], dtype='object')\n",
      "Index(['日本', '米国', '欧州', '中国', 'インド'], dtype='object')\n"
     ]
    }
   ],
   "source": [
    "print(df.columns)\n",
    "print(df.index)"
   ]
  },
  {
   "cell_type": "markdown",
   "metadata": {},
   "source": [
    "# 一个图上一条折线"
   ]
  },
  {
   "cell_type": "code",
   "execution_count": 86,
   "metadata": {
    "scrolled": true
   },
   "outputs": [
    {
     "data": {
      "text/html": [
       "<script>requirejs.config({paths: { 'plotly': ['https://cdn.plot.ly/plotly-latest.min']},});if(!window.Plotly) {{require(['plotly'],function(plotly) {window.Plotly=plotly;});}}</script>"
      ],
      "text/vnd.plotly.v1+html": [
       "<script>requirejs.config({paths: { 'plotly': ['https://cdn.plot.ly/plotly-latest.min']},});if(!window.Plotly) {{require(['plotly'],function(plotly) {window.Plotly=plotly;});}}</script>"
      ]
     },
     "metadata": {},
     "output_type": "display_data"
    },
    {
     "data": {
      "application/vnd.plotly.v1+json": {
       "data": [
        {
         "mode": "lines",
         "name": "4月",
         "type": "scatter",
         "x": [
          "4月",
          "5月",
          "6月",
          "7月",
          "8月",
          "9月"
         ],
         "y": [
          400,
          650,
          900,
          1100,
          1450,
          1900
         ]
        }
       ],
       "layout": {
        "font": {
         "size": 11
        },
        "height": 300,
        "title": "A薬の市場データ",
        "width": 500,
        "xaxis": {
         "showline": true
        },
        "yaxis": {
         "showgrid": false
        }
       }
      },
      "text/html": [
       "<div id=\"1017f4bb-75df-41dc-a229-1c511e3da03a\" style=\"height: 300px; width: 500px;\" class=\"plotly-graph-div\"></div><script type=\"text/javascript\">require([\"plotly\"], function(Plotly) { window.PLOTLYENV=window.PLOTLYENV || {};window.PLOTLYENV.BASE_URL=\"https://plot.ly\";Plotly.newPlot(\"1017f4bb-75df-41dc-a229-1c511e3da03a\", [{\"type\": \"scatter\", \"x\": [\"4\\u6708\", \"5\\u6708\", \"6\\u6708\", \"7\\u6708\", \"8\\u6708\", \"9\\u6708\"], \"y\": [400, 650, 900, 1100, 1450, 1900], \"name\": \"4\\u6708\", \"mode\": \"lines\"}], {\"title\": \"A\\u85ac\\u306e\\u5e02\\u5834\\u30c7\\u30fc\\u30bf\", \"xaxis\": {\"showline\": true}, \"yaxis\": {\"showgrid\": false}, \"font\": {\"size\": 11}, \"width\": 500, \"height\": 300}, {\"showLink\": true, \"linkText\": \"Export to plot.ly\"})});</script>"
      ],
      "text/vnd.plotly.v1+html": [
       "<div id=\"1017f4bb-75df-41dc-a229-1c511e3da03a\" style=\"height: 300px; width: 500px;\" class=\"plotly-graph-div\"></div><script type=\"text/javascript\">require([\"plotly\"], function(Plotly) { window.PLOTLYENV=window.PLOTLYENV || {};window.PLOTLYENV.BASE_URL=\"https://plot.ly\";Plotly.newPlot(\"1017f4bb-75df-41dc-a229-1c511e3da03a\", [{\"type\": \"scatter\", \"x\": [\"4\\u6708\", \"5\\u6708\", \"6\\u6708\", \"7\\u6708\", \"8\\u6708\", \"9\\u6708\"], \"y\": [400, 650, 900, 1100, 1450, 1900], \"name\": \"4\\u6708\", \"mode\": \"lines\"}], {\"title\": \"A\\u85ac\\u306e\\u5e02\\u5834\\u30c7\\u30fc\\u30bf\", \"xaxis\": {\"showline\": true}, \"yaxis\": {\"showgrid\": false}, \"font\": {\"size\": 11}, \"width\": 500, \"height\": 300}, {\"showLink\": true, \"linkText\": \"Export to plot.ly\"})});</script>"
      ]
     },
     "metadata": {},
     "output_type": "display_data"
    }
   ],
   "source": [
    "import plotly.offline as py\n",
    "from plotly.graph_objs import Scatter, Layout\n",
    "import plotly.graph_objs as go\n",
    "py.init_notebook_mode(connected=True)\n",
    "import pandas as pd\n",
    "import numpy as np\n",
    "\n",
    "#读取数据\n",
    "df = pd.read_excel('/Users/leah/Documents/CS/Jupyter/projects/替代excel/test.xlsx',sheet_name='Sheet2',encoding='utf-8',index_col=0)\n",
    "#df=pd.read_csv('seaborn.csv',sep=',',encoding='utf-8',index_col=0)\n",
    "#index_col=0——第一列为index值\n",
    "\n",
    "\n",
    "#plotly折线图，trace就代表折现的条数\n",
    "trace1 = go.Scatter(\n",
    "    x = list(df.columns),\n",
    "    y = df.loc['日本'],\n",
    "    name='4月',\n",
    "    #marker = dict(color=\"cornflowerblue\")\n",
    "    mode = 'lines'  # 有这一行，无点\n",
    ")\n",
    "\n",
    "data = [trace1]\n",
    "layout = go.Layout(\n",
    "    title='A薬の市場データ',\n",
    "    xaxis=dict(showline = True),\n",
    "    yaxis=dict(showgrid = False),\n",
    "    font = dict(size = 11),\n",
    "    #barmode='stack',\n",
    "    width = 500,\n",
    "    height = 300\n",
    ")\n",
    "\n",
    "\n",
    "fig = go.Figure(data=data, layout=layout)\n",
    "py.iplot(fig, filename='stacked-bar')\n",
    "#offline.iplot(fig)\n",
    "\n",
    "\n"
   ]
  },
  {
   "cell_type": "markdown",
   "metadata": {},
   "source": [
    "# <span class=\"mark\">一个图上多个折线</span>"
   ]
  },
  {
   "cell_type": "code",
   "execution_count": 97,
   "metadata": {
    "scrolled": true
   },
   "outputs": [
    {
     "data": {
      "text/html": [
       "<script>requirejs.config({paths: { 'plotly': ['https://cdn.plot.ly/plotly-latest.min']},});if(!window.Plotly) {{require(['plotly'],function(plotly) {window.Plotly=plotly;});}}</script>"
      ],
      "text/vnd.plotly.v1+html": [
       "<script>requirejs.config({paths: { 'plotly': ['https://cdn.plot.ly/plotly-latest.min']},});if(!window.Plotly) {{require(['plotly'],function(plotly) {window.Plotly=plotly;});}}</script>"
      ]
     },
     "metadata": {},
     "output_type": "display_data"
    },
    {
     "data": {
      "application/vnd.plotly.v1+json": {
       "data": [
        {
         "mode": "lines",
         "name": "日本",
         "type": "scatter",
         "x": [
          "4月",
          "5月",
          "6月",
          "7月",
          "8月",
          "9月"
         ],
         "y": [
          400,
          650,
          900,
          1100,
          1450,
          1900
         ]
        },
        {
         "mode": "lines",
         "name": "米国",
         "type": "scatter",
         "x": [
          "4月",
          "5月",
          "6月",
          "7月",
          "8月",
          "9月"
         ],
         "y": [
          450,
          300,
          300,
          450,
          900,
          1100
         ]
        },
        {
         "mode": "lines",
         "name": "欧州",
         "type": "scatter",
         "x": [
          "4月",
          "5月",
          "6月",
          "7月",
          "8月",
          "9月"
         ],
         "y": [
          250,
          400,
          500,
          550,
          600,
          700
         ]
        },
        {
         "mode": "lines",
         "name": "中国",
         "type": "scatter",
         "x": [
          "4月",
          "5月",
          "6月",
          "7月",
          "8月",
          "9月"
         ],
         "y": [
          100,
          800,
          450,
          300,
          300,
          450
         ]
        },
        {
         "mode": "lines",
         "name": "インド",
         "type": "scatter",
         "x": [
          "4月",
          "5月",
          "6月",
          "7月",
          "8月",
          "9月"
         ],
         "y": [
          600,
          100,
          250,
          400,
          500,
          550
         ]
        }
       ],
       "layout": {
        "font": {
         "size": 11
        },
        "height": 300,
        "title": "A薬の市場データ",
        "width": 400,
        "xaxis": {
         "showgrid": false
        },
        "yaxis": {
         "showgrid": true
        }
       }
      },
      "text/html": [
       "<div id=\"f4002800-337e-45ab-a858-c7db2d22b9db\" style=\"height: 300px; width: 400px;\" class=\"plotly-graph-div\"></div><script type=\"text/javascript\">require([\"plotly\"], function(Plotly) { window.PLOTLYENV=window.PLOTLYENV || {};window.PLOTLYENV.BASE_URL=\"https://plot.ly\";Plotly.newPlot(\"f4002800-337e-45ab-a858-c7db2d22b9db\", [{\"type\": \"scatter\", \"x\": [\"4\\u6708\", \"5\\u6708\", \"6\\u6708\", \"7\\u6708\", \"8\\u6708\", \"9\\u6708\"], \"y\": [400, 650, 900, 1100, 1450, 1900], \"name\": \"\\u65e5\\u672c\", \"mode\": \"lines\"}, {\"type\": \"scatter\", \"x\": [\"4\\u6708\", \"5\\u6708\", \"6\\u6708\", \"7\\u6708\", \"8\\u6708\", \"9\\u6708\"], \"y\": [450, 300, 300, 450, 900, 1100], \"name\": \"\\u7c73\\u56fd\", \"mode\": \"lines\"}, {\"type\": \"scatter\", \"x\": [\"4\\u6708\", \"5\\u6708\", \"6\\u6708\", \"7\\u6708\", \"8\\u6708\", \"9\\u6708\"], \"y\": [250, 400, 500, 550, 600, 700], \"name\": \"\\u6b27\\u5dde\", \"mode\": \"lines\"}, {\"type\": \"scatter\", \"x\": [\"4\\u6708\", \"5\\u6708\", \"6\\u6708\", \"7\\u6708\", \"8\\u6708\", \"9\\u6708\"], \"y\": [100, 800, 450, 300, 300, 450], \"name\": \"\\u4e2d\\u56fd\", \"mode\": \"lines\"}, {\"type\": \"scatter\", \"x\": [\"4\\u6708\", \"5\\u6708\", \"6\\u6708\", \"7\\u6708\", \"8\\u6708\", \"9\\u6708\"], \"y\": [600, 100, 250, 400, 500, 550], \"name\": \"\\u30a4\\u30f3\\u30c9\", \"mode\": \"lines\"}], {\"title\": \"A\\u85ac\\u306e\\u5e02\\u5834\\u30c7\\u30fc\\u30bf\", \"xaxis\": {\"showgrid\": false}, \"yaxis\": {\"showgrid\": true}, \"font\": {\"size\": 11}, \"width\": 400, \"height\": 300}, {\"showLink\": true, \"linkText\": \"Export to plot.ly\"})});</script>"
      ],
      "text/vnd.plotly.v1+html": [
       "<div id=\"f4002800-337e-45ab-a858-c7db2d22b9db\" style=\"height: 300px; width: 400px;\" class=\"plotly-graph-div\"></div><script type=\"text/javascript\">require([\"plotly\"], function(Plotly) { window.PLOTLYENV=window.PLOTLYENV || {};window.PLOTLYENV.BASE_URL=\"https://plot.ly\";Plotly.newPlot(\"f4002800-337e-45ab-a858-c7db2d22b9db\", [{\"type\": \"scatter\", \"x\": [\"4\\u6708\", \"5\\u6708\", \"6\\u6708\", \"7\\u6708\", \"8\\u6708\", \"9\\u6708\"], \"y\": [400, 650, 900, 1100, 1450, 1900], \"name\": \"\\u65e5\\u672c\", \"mode\": \"lines\"}, {\"type\": \"scatter\", \"x\": [\"4\\u6708\", \"5\\u6708\", \"6\\u6708\", \"7\\u6708\", \"8\\u6708\", \"9\\u6708\"], \"y\": [450, 300, 300, 450, 900, 1100], \"name\": \"\\u7c73\\u56fd\", \"mode\": \"lines\"}, {\"type\": \"scatter\", \"x\": [\"4\\u6708\", \"5\\u6708\", \"6\\u6708\", \"7\\u6708\", \"8\\u6708\", \"9\\u6708\"], \"y\": [250, 400, 500, 550, 600, 700], \"name\": \"\\u6b27\\u5dde\", \"mode\": \"lines\"}, {\"type\": \"scatter\", \"x\": [\"4\\u6708\", \"5\\u6708\", \"6\\u6708\", \"7\\u6708\", \"8\\u6708\", \"9\\u6708\"], \"y\": [100, 800, 450, 300, 300, 450], \"name\": \"\\u4e2d\\u56fd\", \"mode\": \"lines\"}, {\"type\": \"scatter\", \"x\": [\"4\\u6708\", \"5\\u6708\", \"6\\u6708\", \"7\\u6708\", \"8\\u6708\", \"9\\u6708\"], \"y\": [600, 100, 250, 400, 500, 550], \"name\": \"\\u30a4\\u30f3\\u30c9\", \"mode\": \"lines\"}], {\"title\": \"A\\u85ac\\u306e\\u5e02\\u5834\\u30c7\\u30fc\\u30bf\", \"xaxis\": {\"showgrid\": false}, \"yaxis\": {\"showgrid\": true}, \"font\": {\"size\": 11}, \"width\": 400, \"height\": 300}, {\"showLink\": true, \"linkText\": \"Export to plot.ly\"})});</script>"
      ]
     },
     "metadata": {},
     "output_type": "display_data"
    }
   ],
   "source": [
    "import plotly.offline as py\n",
    "from plotly.graph_objs import Scatter, Layout\n",
    "import plotly.graph_objs as go\n",
    "py.init_notebook_mode(connected=True)\n",
    "import pandas as pd\n",
    "import numpy as np\n",
    "\n",
    "#读取数据\n",
    "df = pd.read_excel('/Users/leah/Documents/CS/Jupyter/projects/替代excel/test.xlsx',sheet_name='Sheet2',encoding='utf-8',index_col=0)\n",
    "#df=pd.read_csv('seaborn.csv',sep=',',encoding='utf-8',index_col=0)\n",
    "\n",
    "data = []\n",
    "for i in df.index:  # 以行名为一条折线\n",
    "    trace = go.Scatter(\n",
    "        x = list(df.columns),  # x轴是月份\n",
    "        y = df.loc[i],  # Y轴是值,‘日本’对应的那一行的数据\n",
    "        name = i,\n",
    "        mode = 'lines'  # 有这一行，无点\n",
    "    )\n",
    "\n",
    "    data.append(trace)\n",
    "    \n",
    "layout = go.Layout(\n",
    "    title='A薬の市場データ',\n",
    "    xaxis=dict(showgrid = False),\n",
    "    yaxis=dict(showgrid = True),\n",
    "    font = dict(size = 11),\n",
    "    #barmode='stack',\n",
    "    width = 400,\n",
    "    height = 300\n",
    ")\n",
    "\n",
    "\n",
    "fig = go.Figure(data=data, layout=layout)\n",
    "py.iplot(fig, filename='stacked-bar')\n",
    "#offline.iplot(fig)</div><i class=\"fa fa-lightbulb-o \"></i>"
   ]
  },
  {
   "cell_type": "markdown",
   "metadata": {},
   "source": [
    "# 一个图一个折线，多个图"
   ]
  },
  {
   "cell_type": "code",
   "execution_count": 87,
   "metadata": {},
   "outputs": [
    {
     "data": {
      "text/html": [
       "<script>requirejs.config({paths: { 'plotly': ['https://cdn.plot.ly/plotly-latest.min']},});if(!window.Plotly) {{require(['plotly'],function(plotly) {window.Plotly=plotly;});}}</script>"
      ],
      "text/vnd.plotly.v1+html": [
       "<script>requirejs.config({paths: { 'plotly': ['https://cdn.plot.ly/plotly-latest.min']},});if(!window.Plotly) {{require(['plotly'],function(plotly) {window.Plotly=plotly;});}}</script>"
      ]
     },
     "metadata": {},
     "output_type": "display_data"
    },
    {
     "data": {
      "application/vnd.plotly.v1+json": {
       "data": [
        {
         "mode": "lines",
         "name": "日本",
         "type": "scatter",
         "x": [
          "4月",
          "5月",
          "6月",
          "7月",
          "8月",
          "9月"
         ],
         "y": [
          400,
          650,
          900,
          1100,
          1450,
          1900
         ]
        }
       ],
       "layout": {
        "font": {
         "size": 11
        },
        "height": 300,
        "title": "日本",
        "width": 500,
        "xaxis": {
         "showline": true
        },
        "yaxis": {
         "showgrid": false
        }
       }
      },
      "text/html": [
       "<div id=\"bffe4f36-dfe7-4c7c-bdf1-a61e93c66370\" style=\"height: 300px; width: 500px;\" class=\"plotly-graph-div\"></div><script type=\"text/javascript\">require([\"plotly\"], function(Plotly) { window.PLOTLYENV=window.PLOTLYENV || {};window.PLOTLYENV.BASE_URL=\"https://plot.ly\";Plotly.newPlot(\"bffe4f36-dfe7-4c7c-bdf1-a61e93c66370\", [{\"type\": \"scatter\", \"x\": [\"4\\u6708\", \"5\\u6708\", \"6\\u6708\", \"7\\u6708\", \"8\\u6708\", \"9\\u6708\"], \"y\": [400, 650, 900, 1100, 1450, 1900], \"name\": \"\\u65e5\\u672c\", \"mode\": \"lines\"}], {\"title\": \"\\u65e5\\u672c\", \"xaxis\": {\"showline\": true}, \"yaxis\": {\"showgrid\": false}, \"font\": {\"size\": 11}, \"width\": 500, \"height\": 300}, {\"showLink\": true, \"linkText\": \"Export to plot.ly\"})});</script>"
      ],
      "text/vnd.plotly.v1+html": [
       "<div id=\"bffe4f36-dfe7-4c7c-bdf1-a61e93c66370\" style=\"height: 300px; width: 500px;\" class=\"plotly-graph-div\"></div><script type=\"text/javascript\">require([\"plotly\"], function(Plotly) { window.PLOTLYENV=window.PLOTLYENV || {};window.PLOTLYENV.BASE_URL=\"https://plot.ly\";Plotly.newPlot(\"bffe4f36-dfe7-4c7c-bdf1-a61e93c66370\", [{\"type\": \"scatter\", \"x\": [\"4\\u6708\", \"5\\u6708\", \"6\\u6708\", \"7\\u6708\", \"8\\u6708\", \"9\\u6708\"], \"y\": [400, 650, 900, 1100, 1450, 1900], \"name\": \"\\u65e5\\u672c\", \"mode\": \"lines\"}], {\"title\": \"\\u65e5\\u672c\", \"xaxis\": {\"showline\": true}, \"yaxis\": {\"showgrid\": false}, \"font\": {\"size\": 11}, \"width\": 500, \"height\": 300}, {\"showLink\": true, \"linkText\": \"Export to plot.ly\"})});</script>"
      ]
     },
     "metadata": {},
     "output_type": "display_data"
    },
    {
     "data": {
      "application/vnd.plotly.v1+json": {
       "data": [
        {
         "mode": "lines",
         "name": "米国",
         "type": "scatter",
         "x": [
          "4月",
          "5月",
          "6月",
          "7月",
          "8月",
          "9月"
         ],
         "y": [
          450,
          300,
          300,
          450,
          900,
          1100
         ]
        }
       ],
       "layout": {
        "font": {
         "size": 11
        },
        "height": 300,
        "title": "米国",
        "width": 500,
        "xaxis": {
         "showline": true
        },
        "yaxis": {
         "showgrid": false
        }
       }
      },
      "text/html": [
       "<div id=\"f96bbac5-06d4-4d4d-a1e3-bfe7eadca501\" style=\"height: 300px; width: 500px;\" class=\"plotly-graph-div\"></div><script type=\"text/javascript\">require([\"plotly\"], function(Plotly) { window.PLOTLYENV=window.PLOTLYENV || {};window.PLOTLYENV.BASE_URL=\"https://plot.ly\";Plotly.newPlot(\"f96bbac5-06d4-4d4d-a1e3-bfe7eadca501\", [{\"type\": \"scatter\", \"x\": [\"4\\u6708\", \"5\\u6708\", \"6\\u6708\", \"7\\u6708\", \"8\\u6708\", \"9\\u6708\"], \"y\": [450, 300, 300, 450, 900, 1100], \"name\": \"\\u7c73\\u56fd\", \"mode\": \"lines\"}], {\"title\": \"\\u7c73\\u56fd\", \"xaxis\": {\"showline\": true}, \"yaxis\": {\"showgrid\": false}, \"font\": {\"size\": 11}, \"width\": 500, \"height\": 300}, {\"showLink\": true, \"linkText\": \"Export to plot.ly\"})});</script>"
      ],
      "text/vnd.plotly.v1+html": [
       "<div id=\"f96bbac5-06d4-4d4d-a1e3-bfe7eadca501\" style=\"height: 300px; width: 500px;\" class=\"plotly-graph-div\"></div><script type=\"text/javascript\">require([\"plotly\"], function(Plotly) { window.PLOTLYENV=window.PLOTLYENV || {};window.PLOTLYENV.BASE_URL=\"https://plot.ly\";Plotly.newPlot(\"f96bbac5-06d4-4d4d-a1e3-bfe7eadca501\", [{\"type\": \"scatter\", \"x\": [\"4\\u6708\", \"5\\u6708\", \"6\\u6708\", \"7\\u6708\", \"8\\u6708\", \"9\\u6708\"], \"y\": [450, 300, 300, 450, 900, 1100], \"name\": \"\\u7c73\\u56fd\", \"mode\": \"lines\"}], {\"title\": \"\\u7c73\\u56fd\", \"xaxis\": {\"showline\": true}, \"yaxis\": {\"showgrid\": false}, \"font\": {\"size\": 11}, \"width\": 500, \"height\": 300}, {\"showLink\": true, \"linkText\": \"Export to plot.ly\"})});</script>"
      ]
     },
     "metadata": {},
     "output_type": "display_data"
    },
    {
     "data": {
      "application/vnd.plotly.v1+json": {
       "data": [
        {
         "mode": "lines",
         "name": "欧州",
         "type": "scatter",
         "x": [
          "4月",
          "5月",
          "6月",
          "7月",
          "8月",
          "9月"
         ],
         "y": [
          250,
          400,
          500,
          550,
          600,
          700
         ]
        }
       ],
       "layout": {
        "font": {
         "size": 11
        },
        "height": 300,
        "title": "欧州",
        "width": 500,
        "xaxis": {
         "showline": true
        },
        "yaxis": {
         "showgrid": false
        }
       }
      },
      "text/html": [
       "<div id=\"adb46df3-f34c-41a1-9f0f-75279659d826\" style=\"height: 300px; width: 500px;\" class=\"plotly-graph-div\"></div><script type=\"text/javascript\">require([\"plotly\"], function(Plotly) { window.PLOTLYENV=window.PLOTLYENV || {};window.PLOTLYENV.BASE_URL=\"https://plot.ly\";Plotly.newPlot(\"adb46df3-f34c-41a1-9f0f-75279659d826\", [{\"type\": \"scatter\", \"x\": [\"4\\u6708\", \"5\\u6708\", \"6\\u6708\", \"7\\u6708\", \"8\\u6708\", \"9\\u6708\"], \"y\": [250, 400, 500, 550, 600, 700], \"name\": \"\\u6b27\\u5dde\", \"mode\": \"lines\"}], {\"title\": \"\\u6b27\\u5dde\", \"xaxis\": {\"showline\": true}, \"yaxis\": {\"showgrid\": false}, \"font\": {\"size\": 11}, \"width\": 500, \"height\": 300}, {\"showLink\": true, \"linkText\": \"Export to plot.ly\"})});</script>"
      ],
      "text/vnd.plotly.v1+html": [
       "<div id=\"adb46df3-f34c-41a1-9f0f-75279659d826\" style=\"height: 300px; width: 500px;\" class=\"plotly-graph-div\"></div><script type=\"text/javascript\">require([\"plotly\"], function(Plotly) { window.PLOTLYENV=window.PLOTLYENV || {};window.PLOTLYENV.BASE_URL=\"https://plot.ly\";Plotly.newPlot(\"adb46df3-f34c-41a1-9f0f-75279659d826\", [{\"type\": \"scatter\", \"x\": [\"4\\u6708\", \"5\\u6708\", \"6\\u6708\", \"7\\u6708\", \"8\\u6708\", \"9\\u6708\"], \"y\": [250, 400, 500, 550, 600, 700], \"name\": \"\\u6b27\\u5dde\", \"mode\": \"lines\"}], {\"title\": \"\\u6b27\\u5dde\", \"xaxis\": {\"showline\": true}, \"yaxis\": {\"showgrid\": false}, \"font\": {\"size\": 11}, \"width\": 500, \"height\": 300}, {\"showLink\": true, \"linkText\": \"Export to plot.ly\"})});</script>"
      ]
     },
     "metadata": {},
     "output_type": "display_data"
    },
    {
     "data": {
      "application/vnd.plotly.v1+json": {
       "data": [
        {
         "mode": "lines",
         "name": "中国",
         "type": "scatter",
         "x": [
          "4月",
          "5月",
          "6月",
          "7月",
          "8月",
          "9月"
         ],
         "y": [
          100,
          800,
          450,
          300,
          300,
          450
         ]
        }
       ],
       "layout": {
        "font": {
         "size": 11
        },
        "height": 300,
        "title": "中国",
        "width": 500,
        "xaxis": {
         "showline": true
        },
        "yaxis": {
         "showgrid": false
        }
       }
      },
      "text/html": [
       "<div id=\"f553cd3b-9124-41da-bee8-0fc98293f370\" style=\"height: 300px; width: 500px;\" class=\"plotly-graph-div\"></div><script type=\"text/javascript\">require([\"plotly\"], function(Plotly) { window.PLOTLYENV=window.PLOTLYENV || {};window.PLOTLYENV.BASE_URL=\"https://plot.ly\";Plotly.newPlot(\"f553cd3b-9124-41da-bee8-0fc98293f370\", [{\"type\": \"scatter\", \"x\": [\"4\\u6708\", \"5\\u6708\", \"6\\u6708\", \"7\\u6708\", \"8\\u6708\", \"9\\u6708\"], \"y\": [100, 800, 450, 300, 300, 450], \"name\": \"\\u4e2d\\u56fd\", \"mode\": \"lines\"}], {\"title\": \"\\u4e2d\\u56fd\", \"xaxis\": {\"showline\": true}, \"yaxis\": {\"showgrid\": false}, \"font\": {\"size\": 11}, \"width\": 500, \"height\": 300}, {\"showLink\": true, \"linkText\": \"Export to plot.ly\"})});</script>"
      ],
      "text/vnd.plotly.v1+html": [
       "<div id=\"f553cd3b-9124-41da-bee8-0fc98293f370\" style=\"height: 300px; width: 500px;\" class=\"plotly-graph-div\"></div><script type=\"text/javascript\">require([\"plotly\"], function(Plotly) { window.PLOTLYENV=window.PLOTLYENV || {};window.PLOTLYENV.BASE_URL=\"https://plot.ly\";Plotly.newPlot(\"f553cd3b-9124-41da-bee8-0fc98293f370\", [{\"type\": \"scatter\", \"x\": [\"4\\u6708\", \"5\\u6708\", \"6\\u6708\", \"7\\u6708\", \"8\\u6708\", \"9\\u6708\"], \"y\": [100, 800, 450, 300, 300, 450], \"name\": \"\\u4e2d\\u56fd\", \"mode\": \"lines\"}], {\"title\": \"\\u4e2d\\u56fd\", \"xaxis\": {\"showline\": true}, \"yaxis\": {\"showgrid\": false}, \"font\": {\"size\": 11}, \"width\": 500, \"height\": 300}, {\"showLink\": true, \"linkText\": \"Export to plot.ly\"})});</script>"
      ]
     },
     "metadata": {},
     "output_type": "display_data"
    },
    {
     "data": {
      "application/vnd.plotly.v1+json": {
       "data": [
        {
         "mode": "lines",
         "name": "インド",
         "type": "scatter",
         "x": [
          "4月",
          "5月",
          "6月",
          "7月",
          "8月",
          "9月"
         ],
         "y": [
          600,
          100,
          250,
          400,
          500,
          550
         ]
        }
       ],
       "layout": {
        "font": {
         "size": 11
        },
        "height": 300,
        "title": "インド",
        "width": 500,
        "xaxis": {
         "showline": true
        },
        "yaxis": {
         "showgrid": false
        }
       }
      },
      "text/html": [
       "<div id=\"315302c8-7b4d-4d80-8bea-7730980f07f4\" style=\"height: 300px; width: 500px;\" class=\"plotly-graph-div\"></div><script type=\"text/javascript\">require([\"plotly\"], function(Plotly) { window.PLOTLYENV=window.PLOTLYENV || {};window.PLOTLYENV.BASE_URL=\"https://plot.ly\";Plotly.newPlot(\"315302c8-7b4d-4d80-8bea-7730980f07f4\", [{\"type\": \"scatter\", \"x\": [\"4\\u6708\", \"5\\u6708\", \"6\\u6708\", \"7\\u6708\", \"8\\u6708\", \"9\\u6708\"], \"y\": [600, 100, 250, 400, 500, 550], \"name\": \"\\u30a4\\u30f3\\u30c9\", \"mode\": \"lines\"}], {\"title\": \"\\u30a4\\u30f3\\u30c9\", \"xaxis\": {\"showline\": true}, \"yaxis\": {\"showgrid\": false}, \"font\": {\"size\": 11}, \"width\": 500, \"height\": 300}, {\"showLink\": true, \"linkText\": \"Export to plot.ly\"})});</script>"
      ],
      "text/vnd.plotly.v1+html": [
       "<div id=\"315302c8-7b4d-4d80-8bea-7730980f07f4\" style=\"height: 300px; width: 500px;\" class=\"plotly-graph-div\"></div><script type=\"text/javascript\">require([\"plotly\"], function(Plotly) { window.PLOTLYENV=window.PLOTLYENV || {};window.PLOTLYENV.BASE_URL=\"https://plot.ly\";Plotly.newPlot(\"315302c8-7b4d-4d80-8bea-7730980f07f4\", [{\"type\": \"scatter\", \"x\": [\"4\\u6708\", \"5\\u6708\", \"6\\u6708\", \"7\\u6708\", \"8\\u6708\", \"9\\u6708\"], \"y\": [600, 100, 250, 400, 500, 550], \"name\": \"\\u30a4\\u30f3\\u30c9\", \"mode\": \"lines\"}], {\"title\": \"\\u30a4\\u30f3\\u30c9\", \"xaxis\": {\"showline\": true}, \"yaxis\": {\"showgrid\": false}, \"font\": {\"size\": 11}, \"width\": 500, \"height\": 300}, {\"showLink\": true, \"linkText\": \"Export to plot.ly\"})});</script>"
      ]
     },
     "metadata": {},
     "output_type": "display_data"
    }
   ],
   "source": [
    "import plotly.offline as py\n",
    "from plotly.graph_objs import Scatter, Layout\n",
    "import plotly.graph_objs as go\n",
    "py.init_notebook_mode(connected=True)\n",
    "import pandas as pd\n",
    "import numpy as np\n",
    "\n",
    "#读取数据\n",
    "df = pd.read_excel('/Users/leah/Documents/CS/Jupyter/projects/替代excel/test.xlsx',sheet_name='Sheet2',encoding='utf-8',index_col=0)\n",
    "#df=pd.read_csv('seaborn.csv',sep=',',encoding='utf-8',index_col=0)\n",
    "\n",
    "\n",
    "for i in df.index:  # 以行名为一条折线\n",
    "    trace = go.Scatter(\n",
    "        x = list(df.columns),  # x轴是月份\n",
    "        y = df.loc[i],  # Y轴是值,‘日本’对应的那一行\n",
    "        name = i,\n",
    "        mode = 'lines'  # 有这一行，无点\n",
    "    )\n",
    "\n",
    "    data = [trace]\n",
    "    \n",
    "    layout = go.Layout(\n",
    "        title= i,\n",
    "        xaxis=dict(showline = True),\n",
    "        yaxis=dict(showgrid = False),\n",
    "        font = dict(size = 11),\n",
    "        #barmode='stack',\n",
    "        width = 500,\n",
    "        height = 300\n",
    "    )\n",
    "\n",
    "\n",
    "    fig = go.Figure(data=data, layout=layout)\n",
    "    py.iplot(fig, filename='stacked-bar')\n"
   ]
  }
 ],
 "metadata": {
  "kernelspec": {
   "display_name": "Python 3",
   "language": "python",
   "name": "python3"
  },
  "language_info": {
   "codemirror_mode": {
    "name": "ipython",
    "version": 3
   },
   "file_extension": ".py",
   "mimetype": "text/x-python",
   "name": "python",
   "nbconvert_exporter": "python",
   "pygments_lexer": "ipython3",
   "version": "3.7.3"
  },
  "toc": {
   "base_numbering": 1,
   "nav_menu": {},
   "number_sections": true,
   "sideBar": true,
   "skip_h1_title": false,
   "title_cell": "Table of Contents",
   "title_sidebar": "Contents",
   "toc_cell": false,
   "toc_position": {},
   "toc_section_display": true,
   "toc_window_display": false
  }
 },
 "nbformat": 4,
 "nbformat_minor": 4
}
