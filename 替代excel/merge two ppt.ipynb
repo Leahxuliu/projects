{
 "cells": [
  {
   "cell_type": "code",
   "execution_count": null,
   "metadata": {},
   "outputs": [],
   "source": [
    "pip install python-pptx"
   ]
  },
  {
   "cell_type": "code",
   "execution_count": 11,
   "metadata": {},
   "outputs": [],
   "source": [
    "from pptx import Presentation\n",
    "from pptx.util import Inches, Pt\n",
    "\n",
    "prs = Presentation('test.pptx')\n",
    "\n",
    "'''\n",
    "names = []\n",
    "with open('synsets.txt') as f:\n",
    "    for line in f:\n",
    "        print(line)\n",
    "        names.append(line)\n",
    "'''\n",
    "\n",
    "left = Inches(4)\n",
    "top = Inches(1.1)\n",
    "width = Inches(5)\n",
    "height = Inches(0.5)\n",
    "\n",
    "pages = 0\n",
    "for slide, name in zip(prs.slides, names):\n",
    "    pages += 1\n",
    "    txBox = slide.shapes.add_textbox(left, top, width, height)\n",
    "    tf = txBox.text_frame\n",
    "    tf.text = 'abc'\n",
    "\n",
    "prs.save(\"res.pptx\")"
   ]
  },
  {
   "cell_type": "code",
   "execution_count": null,
   "metadata": {},
   "outputs": [],
   "source": [
    "main = Presentation('Universal.pptx')\n",
    "abc = Presentation('Test1.pptx')\n",
    "\n",
    "main_slides = main.slides.get(1)\n",
    "abc_slides = abc.slides.get(1)\n",
    "\n",
    "full = main.slides.add_slide(abc_slides[1])\n",
    "\n",
    "full.save('Full.pptx')"
   ]
  }
 ],
 "metadata": {
  "kernelspec": {
   "display_name": "Python 3",
   "language": "python",
   "name": "python3"
  },
  "language_info": {
   "codemirror_mode": {
    "name": "ipython",
    "version": 3
   },
   "file_extension": ".py",
   "mimetype": "text/x-python",
   "name": "python",
   "nbconvert_exporter": "python",
   "pygments_lexer": "ipython3",
   "version": "3.7.3"
  },
  "toc": {
   "base_numbering": 1,
   "nav_menu": {},
   "number_sections": true,
   "sideBar": true,
   "skip_h1_title": false,
   "title_cell": "Table of Contents",
   "title_sidebar": "Contents",
   "toc_cell": false,
   "toc_position": {},
   "toc_section_display": true,
   "toc_window_display": false
  }
 },
 "nbformat": 4,
 "nbformat_minor": 4
}
