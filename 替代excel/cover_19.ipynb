{
 "cells": [
  {
   "cell_type": "code",
   "execution_count": 22,
   "metadata": {},
   "outputs": [
    {
     "name": "stdout",
     "output_type": "stream",
     "text": [
      "    a  ATC1  ATC2  ATC3  呼吸器  感染症   8月    9月\n",
      "1  米国   450   300    20    1    0  900  1100\n",
      "2  欧州   250   400    30    1    1  600   700\n"
     ]
    }
   ],
   "source": [
    "import pandas as pd\n",
    "\n",
    "df = pd.read_excel('test.xlsx', sheet_name = 'Sheet3', index = True)\n",
    "\n",
    "df = df[df['呼吸器'] > 0]\n",
    "print(df)"
   ]
  },
  {
   "cell_type": "code",
   "execution_count": 19,
   "metadata": {},
   "outputs": [
    {
     "name": "stdout",
     "output_type": "stream",
     "text": [
      "{'感染症', 'a', 'ATC1', '9月', '呼吸器', '8月'}\n"
     ]
    }
   ],
   "source": [
    "import xlwings as xw\n",
    "wb = xw.Book('data.xlsx')\n",
    "sht = wb.sheets[0]\n",
    "title = sht.range('A1:F1').value\n",
    "title = set(title)\n",
    "\n",
    "each_r = '呼吸器'\n",
    "print(title)"
   ]
  },
  {
   "cell_type": "code",
   "execution_count": 20,
   "metadata": {
    "scrolled": false
   },
   "outputs": [
    {
     "name": "stdout",
     "output_type": "stream",
     "text": [
      "    a  ATC1  呼吸器  感染症   8月    9月\n",
      "1  米国   450    1    0  900  1100\n",
      "2  欧州   250    1    1  600   700\n"
     ]
    },
    {
     "name": "stderr",
     "output_type": "stream",
     "text": [
      "/Library/Python/3.7/site-packages/pandas/core/frame.py:3997: SettingWithCopyWarning:\n",
      "\n",
      "\n",
      "A value is trying to be set on a copy of a slice from a DataFrame\n",
      "\n",
      "See the caveats in the documentation: https://pandas.pydata.org/pandas-docs/stable/user_guide/indexing.html#returning-a-view-versus-a-copy\n",
      "\n"
     ]
    }
   ],
   "source": [
    "delet_column = []\n",
    "for c in df2.columns: \n",
    "    if c not in title:\n",
    "        delet_column.append(c)\n",
    "\n",
    "df2.drop(delet_column, axis=1, inplace=True)\n",
    "print(df2)"
   ]
  },
  {
   "cell_type": "code",
   "execution_count": 21,
   "metadata": {},
   "outputs": [
    {
     "name": "stdout",
     "output_type": "stream",
     "text": [
      "[['米国', 450, 1, 0, 900, 1100], ['欧州', 250, 1, 1, 600, 700]]\n"
     ]
    }
   ],
   "source": [
    "list_df2 = df2.values.tolist()\n",
    "print(list_df2)\n",
    "sht.range('A2').value = list_df2"
   ]
  },
  {
   "cell_type": "code",
   "execution_count": null,
   "metadata": {},
   "outputs": [],
   "source": []
  },
  {
   "cell_type": "code",
   "execution_count": 29,
   "metadata": {
    "scrolled": true
   },
   "outputs": [
    {
     "name": "stdout",
     "output_type": "stream",
     "text": [
      "['a', 'ATC1', '呼吸器', '感染症', '8月', '9月']\n",
      "['米国', '欧州']\n",
      "[450, 250]\n",
      "[1, 1]\n",
      "[0, 1]\n",
      "[900, 600]\n",
      "[1100, 700]\n"
     ]
    }
   ],
   "source": [
    "import pandas as pd\n",
    "import xlwings as xw\n",
    "\n",
    "df = pd.read_excel('test.xlsx', sheet_name = 'Sheet3', index = True)\n",
    "\n",
    "df = df[df['呼吸器'] > 0]\n",
    "#print(df)\n",
    "\n",
    "wb = xw.Book('data.xlsx')\n",
    "sht = wb.sheets[0]\n",
    "title = sht.range('A1:F1').value\n",
    "print(title)\n",
    "\n",
    "each_r = '呼吸器'\n",
    "#print(title)\n",
    "\n",
    "input_range = ['A2', 'B2', 'C2', 'D2', 'E2', 'F2']\n",
    "for t, inp in zip(title, input_range):\n",
    "    data = df[t].values.tolist()\n",
    "    print(data)\n",
    "    sht.range(inp).options(transpose=True).value = data"
   ]
  },
  {
   "cell_type": "code",
   "execution_count": 49,
   "metadata": {},
   "outputs": [
    {
     "name": "stdout",
     "output_type": "stream",
     "text": [
      "1    900\n",
      "2    600\n",
      "Name: 8月, dtype: int64\n"
     ]
    }
   ],
   "source": [
    "import pandas as pd\n",
    "import xlwings as xw\n",
    "\n",
    "df = pd.read_excel('test.xlsx', sheet_name = 'Sheet3', header = 2)\n",
    "\n",
    "df = df[df['呼吸器'] > 0]\n",
    "DB_title = df.columns\n",
    "\n",
    "\n",
    "wb = xw.Book('data.xlsx')\n",
    "sht = wb.sheets[0]\n",
    "title = sht.range('A1:F1').value\n",
    "\n",
    "each_r = '呼吸器'\n",
    "#print(title)\n",
    "\n",
    "#for t in title:\n",
    "#    if t not in DB_title:\n",
    "#        df.drop(delet_column, axis=1, inplace=True)\n",
    "\n",
    "df = df[title]\n",
    "print(df['8月'])"
   ]
  },
  {
   "cell_type": "code",
   "execution_count": 50,
   "metadata": {},
   "outputs": [
    {
     "name": "stdout",
     "output_type": "stream",
     "text": [
      "Empty DataFrame\n",
      "Columns: [a, ATC1, ATC2, ATC3, 呼吸器, 感染症, 8月, 9月]\n",
      "Index: []\n"
     ]
    }
   ],
   "source": [
    "import pandas as pd\n",
    "import xlwings as xw\n",
    "\n",
    "df = pd.read_excel('test.xlsx', sheet_name = 'Sheet3', header = 2)\n",
    "df.drop(df.index, inplace = True)\n",
    "print(df)"
   ]
  },
  {
   "cell_type": "code",
   "execution_count": 55,
   "metadata": {},
   "outputs": [
    {
     "data": {
      "text/html": [
       "<div>\n",
       "<style scoped>\n",
       "    .dataframe tbody tr th:only-of-type {\n",
       "        vertical-align: middle;\n",
       "    }\n",
       "\n",
       "    .dataframe tbody tr th {\n",
       "        vertical-align: top;\n",
       "    }\n",
       "\n",
       "    .dataframe thead tr th {\n",
       "        text-align: left;\n",
       "    }\n",
       "\n",
       "    .dataframe thead tr:last-of-type th {\n",
       "        text-align: right;\n",
       "    }\n",
       "</style>\n",
       "<table border=\"1\" class=\"dataframe\">\n",
       "  <thead>\n",
       "    <tr>\n",
       "      <th></th>\n",
       "      <th>8月</th>\n",
       "      <th>9月</th>\n",
       "    </tr>\n",
       "    <tr>\n",
       "      <th>dtl</th>\n",
       "      <th>F2F</th>\n",
       "      <th>F2F</th>\n",
       "    </tr>\n",
       "    <tr>\n",
       "      <th>a</th>\n",
       "      <th></th>\n",
       "      <th></th>\n",
       "    </tr>\n",
       "  </thead>\n",
       "  <tbody>\n",
       "    <tr>\n",
       "      <th>米国</th>\n",
       "      <td>3</td>\n",
       "      <td>2</td>\n",
       "    </tr>\n",
       "  </tbody>\n",
       "</table>\n",
       "</div>"
      ],
      "text/plain": [
       "     8月  9月\n",
       "dtl F2F F2F\n",
       "a          \n",
       "米国    3   2"
      ]
     },
     "execution_count": 55,
     "metadata": {},
     "output_type": "execute_result"
    }
   ],
   "source": [
    "import pandas as pd\n",
    "import xlwings as xw\n",
    "\n",
    "df = pd.read_excel('test.xlsx', sheet_name = 'Sheet3', header = 2)\n",
    "df = df[(df['呼吸器'] > 0) & (df['dtl'] == 'F2F')]\n",
    "\n",
    "wb = xw.Book('data.xlsx')\n",
    "sht = wb.sheets[0]\n",
    "\n",
    "df.pivot_table(values=['8月','9月'], index = ['a'], columns=['dtl'])"
   ]
  },
  {
   "cell_type": "code",
   "execution_count": 77,
   "metadata": {},
   "outputs": [
    {
     "name": "stdout",
     "output_type": "stream",
     "text": [
      "     ATC2  感染症  8月  9月\n",
      "呼吸器                   \n",
      "1     600    0   6   4\n",
      "[[600, 0, 6, 4]]\n"
     ]
    }
   ],
   "source": [
    "import pandas as pd\n",
    "import xlwings as xw\n",
    "\n",
    "df = pd.read_excel('test.xlsx', sheet_name = 'Sheet3', header = 2)\n",
    "df = df[(df['呼吸器'] > 0) & (df['dtl'] == 'F2F')]\n",
    "\n",
    "wb = xw.Book('data.xlsx')\n",
    "sht = wb.sheets[0]\n",
    "\n",
    "data = df.groupby('呼吸器').sum()\n",
    "print(data)\n",
    "\n",
    "data_list = data.values.tolist()\n",
    "print(data_list)"
   ]
  },
  {
   "cell_type": "code",
   "execution_count": 9,
   "metadata": {},
   "outputs": [
    {
     "name": "stdout",
     "output_type": "stream",
     "text": [
      "            效果     说明会    \n",
      "ATC1       R01 R02 R01 R02\n",
      "月                         \n",
      "2019-10-01   0   0   0   0\n",
      "2020-02-01   0   0   1   0\n",
      "2020-03-01   1   1   0   1\n",
      "    a ATC1  ATC2  dtl          月  呼吸器  感染症   效果  说明会\n",
      "1  米国  R01   300  F2F 2019-10-01    1    0  NaN  NaN\n",
      "2  欧州  R02   400  F2F 2020-03-01    1    1  1.0  1.0\n",
      "5  欧州  R01   400  F2F 2020-03-01    1    1  1.0  NaN\n"
     ]
    }
   ],
   "source": [
    "import pandas as pd\n",
    "import numpy as np\n",
    "import xlwings as xw\n",
    "\n",
    "df = pd.read_excel('test.xlsx', sheet_name = 'Sheet3', header = 2)\n",
    "df = df[df['呼吸器'] > 0]\n",
    "\n",
    "wb = xw.Book('data.xlsx')\n",
    "sht = wb.sheets[0]\n",
    "\n",
    "v = ['效果', '说明会']\n",
    "\n",
    "data = df.pivot_table(values=v, index = '月', columns = 'ATC1', aggfunc = sum, fill_value = 0)\n",
    "print(data)\n",
    "#print(df.drop_duplicates(subset=['a', 'ATC1'], keep='first'))\n",
    "\n",
    "data = data.T\n",
    "\n",
    "\n",
    "sht.range('A10').options(transpose=True).value = v\n",
    "sht.range('B9').value = ['2019-10', '2020-02', '2020-03']\n",
    "sht.range('B10').value = data.values.tolist()\n",
    "#data.index\n",
    "#data_list = data.values.tolist()\n",
    "#sht.range('A10').value = data_list"
   ]
  },
  {
   "cell_type": "code",
   "execution_count": 4,
   "metadata": {},
   "outputs": [
    {
     "data": {
      "text/html": [
       "<div>\n",
       "<style scoped>\n",
       "    .dataframe tbody tr th:only-of-type {\n",
       "        vertical-align: middle;\n",
       "    }\n",
       "\n",
       "    .dataframe tbody tr th {\n",
       "        vertical-align: top;\n",
       "    }\n",
       "\n",
       "    .dataframe thead th {\n",
       "        text-align: right;\n",
       "    }\n",
       "</style>\n",
       "<table border=\"1\" class=\"dataframe\">\n",
       "  <thead>\n",
       "    <tr style=\"text-align: right;\">\n",
       "      <th></th>\n",
       "      <th>a</th>\n",
       "      <th>ATC1</th>\n",
       "      <th>ATC2</th>\n",
       "      <th>dtl</th>\n",
       "      <th>月</th>\n",
       "      <th>リウマチ</th>\n",
       "      <th>統合</th>\n",
       "      <th>睡眠</th>\n",
       "      <th>呼吸</th>\n",
       "    </tr>\n",
       "  </thead>\n",
       "  <tbody>\n",
       "    <tr>\n",
       "      <th>0</th>\n",
       "      <td>日本</td>\n",
       "      <td>R01</td>\n",
       "      <td>650</td>\n",
       "      <td>F2F</td>\n",
       "      <td>2019-01-01</td>\n",
       "      <td>1</td>\n",
       "      <td>0</td>\n",
       "      <td>0</td>\n",
       "      <td>0</td>\n",
       "    </tr>\n",
       "    <tr>\n",
       "      <th>1</th>\n",
       "      <td>米国</td>\n",
       "      <td>R01</td>\n",
       "      <td>300</td>\n",
       "      <td>F2F</td>\n",
       "      <td>2019-10-01</td>\n",
       "      <td>1</td>\n",
       "      <td>1</td>\n",
       "      <td>0</td>\n",
       "      <td>0</td>\n",
       "    </tr>\n",
       "    <tr>\n",
       "      <th>2</th>\n",
       "      <td>欧州</td>\n",
       "      <td>R02</td>\n",
       "      <td>400</td>\n",
       "      <td>F2F</td>\n",
       "      <td>2020-03-01</td>\n",
       "      <td>0</td>\n",
       "      <td>1</td>\n",
       "      <td>0</td>\n",
       "      <td>0</td>\n",
       "    </tr>\n",
       "    <tr>\n",
       "      <th>4</th>\n",
       "      <td>米国</td>\n",
       "      <td>R01</td>\n",
       "      <td>300</td>\n",
       "      <td>F2F</td>\n",
       "      <td>2020-02-01</td>\n",
       "      <td>1</td>\n",
       "      <td>0</td>\n",
       "      <td>1</td>\n",
       "      <td>0</td>\n",
       "    </tr>\n",
       "  </tbody>\n",
       "</table>\n",
       "</div>"
      ],
      "text/plain": [
       "    a ATC1  ATC2  dtl          月  リウマチ  統合  睡眠  呼吸\n",
       "0  日本  R01   650  F2F 2019-01-01     1   0   0   0\n",
       "1  米国  R01   300  F2F 2019-10-01     1   1   0   0\n",
       "2  欧州  R02   400  F2F 2020-03-01     0   1   0   0\n",
       "4  米国  R01   300  F2F 2020-02-01     1   0   1   0"
      ]
     },
     "execution_count": 4,
     "metadata": {},
     "output_type": "execute_result"
    }
   ],
   "source": [
    "import pandas as pd\n",
    "import numpy as np\n",
    "import xlwings as xw\n",
    "\n",
    "df = pd.read_excel('test.xlsx', sheet_name = 'Sheet5', header = 2)\n",
    "df[(df['リウマチ'] > 0) | (df['統合'] > 0)]"
   ]
  }
 ],
 "metadata": {
  "kernelspec": {
   "display_name": "Python 3",
   "language": "python",
   "name": "python3"
  },
  "language_info": {
   "codemirror_mode": {
    "name": "ipython",
    "version": 3
   },
   "file_extension": ".py",
   "mimetype": "text/x-python",
   "name": "python",
   "nbconvert_exporter": "python",
   "pygments_lexer": "ipython3",
   "version": "3.7.3"
  },
  "toc": {
   "base_numbering": 1,
   "nav_menu": {},
   "number_sections": true,
   "sideBar": true,
   "skip_h1_title": false,
   "title_cell": "Table of Contents",
   "title_sidebar": "Contents",
   "toc_cell": false,
   "toc_position": {},
   "toc_section_display": true,
   "toc_window_display": false
  }
 },
 "nbformat": 4,
 "nbformat_minor": 4
}
