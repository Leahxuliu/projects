{
 "cells": [
  {
   "cell_type": "markdown",
   "metadata": {},
   "source": [
    "肖星 《一本书读懂财报》\n",
    "\n",
    "利润只跟卖东西有关\n",
    "一个公司亏损1个亿，有一套3千万的房子\n",
    "申请提前偿还贷款，用三千万的房子向银行抵押，换取1.6亿\n",
    "然后再用这1.6亿把房子买回来\n",
    "\n",
    "盈利 = 1.6亿 - 3千万 - 1亿 = 3千万\n",
    "房子从3千万增值到1.6亿\n",
    "\n",
    "\n",
    "# 财务三大表\n",
    "\n",
    "## 资产负债表 SOFP\n",
    "\n",
    "\n",
    "\n"
   ]
  },
  {
   "cell_type": "markdown",
   "metadata": {},
   "source": [
    "## 利润表 SOPL & OCI"
   ]
  },
  {
   "cell_type": "markdown",
   "metadata": {},
   "source": [
    "## 现金流量表"
   ]
  },
  {
   "cell_type": "markdown",
   "metadata": {},
   "source": [
    "## 表间关系 \n",
    "relationship between the statements"
   ]
  },
  {
   "cell_type": "code",
   "execution_count": null,
   "metadata": {},
   "outputs": [],
   "source": []
  }
 ],
 "metadata": {
  "kernelspec": {
   "display_name": "Python 3",
   "language": "python",
   "name": "python3"
  },
  "language_info": {
   "codemirror_mode": {
    "name": "ipython",
    "version": 3
   },
   "file_extension": ".py",
   "mimetype": "text/x-python",
   "name": "python",
   "nbconvert_exporter": "python",
   "pygments_lexer": "ipython3",
   "version": "3.7.3"
  },
  "toc": {
   "base_numbering": 1,
   "nav_menu": {},
   "number_sections": true,
   "sideBar": true,
   "skip_h1_title": false,
   "title_cell": "Table of Contents",
   "title_sidebar": "Contents",
   "toc_cell": false,
   "toc_position": {},
   "toc_section_display": true,
   "toc_window_display": false
  }
 },
 "nbformat": 4,
 "nbformat_minor": 4
}
