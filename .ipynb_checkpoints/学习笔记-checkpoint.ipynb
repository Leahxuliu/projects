{
 "cells": [
  {
   "cell_type": "markdown",
   "metadata": {},
   "source": [
    "# Dataframe\n",
    "\n",
    "## 取列\n",
    "\n",
    "y = df['4月']\n"
   ]
  },
  {
   "cell_type": "markdown",
   "metadata": {},
   "source": [
    "## 取行\n",
    "\n",
    "x = list(df.columns)"
   ]
  },
  {
   "cell_type": "markdown",
   "metadata": {},
   "source": [
    "## 取title\n",
    "for i in df:\n",
    "    print(i)\n",
    "    \n",
    "    \n",
    "写标题\n",
    "Index(['col1', 'col2'], dtype='object')\n",
    "\n",
    "\n",
    "index_col=0——第一列为index值"
   ]
  },
  {
   "cell_type": "code",
   "execution_count": null,
   "metadata": {},
   "outputs": [],
   "source": [
    "go.Scatter\n",
    "index_col=0 第一列为index值\n",
    "df.columns 取行名\n",
    "df.index 取列名\n",
    "encoding='utf-8'\n",
    "mode = 'lines'\n",
    "xaxis=dict(showline = True) 有竖线\n",
    "yaxis=dict(showgrid = False) 无横线"
   ]
  },
  {
   "cell_type": "code",
   "execution_count": null,
   "metadata": {},
   "outputs": [],
   "source": [
    "import pandas as pd\n",
    "import numpy as np\n",
    "\n",
    "#读取数据\n",
    "df = pd.read_excel('/Users/leah/Documents/CS/Jupyter/projects/替代excel/test.xlsx',sheet_name='Sheet2',encoding='utf-8',index_col=0)\n",
    "#df=pd.read_csv('seaborn.csv',sep=',',encoding='utf-8',index_col=0)\n",
    "#index_col=0——第一列为index值\n",
    "#展示数据\n",
    "df.head()"
   ]
  }
 ],
 "metadata": {
  "kernelspec": {
   "display_name": "Python 3",
   "language": "python",
   "name": "python3"
  },
  "language_info": {
   "codemirror_mode": {
    "name": "ipython",
    "version": 3
   },
   "file_extension": ".py",
   "mimetype": "text/x-python",
   "name": "python",
   "nbconvert_exporter": "python",
   "pygments_lexer": "ipython3",
   "version": "3.7.3"
  },
  "toc": {
   "base_numbering": 1,
   "nav_menu": {},
   "number_sections": true,
   "sideBar": true,
   "skip_h1_title": false,
   "title_cell": "Table of Contents",
   "title_sidebar": "Contents",
   "toc_cell": false,
   "toc_position": {},
   "toc_section_display": true,
   "toc_window_display": false
  }
 },
 "nbformat": 4,
 "nbformat_minor": 4
}
