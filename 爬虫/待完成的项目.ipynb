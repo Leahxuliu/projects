{
 "cells": [
  {
   "cell_type": "markdown",
   "metadata": {},
   "source": [
    "# IMDB 电影\n",
    "http://blog.itpub.net/31555699/viewspace-2636705/\n",
    "\n",
    "\n",
    "# 书籍信息\n",
    "http://blog.itpub.net/31555699/viewspace-2637594/\n",
    "\n",
    "\n",
    "# 北上广深租房图鉴\n",
    "http://blog.itpub.net/31555699/viewspace-2639077/\n",
    "\n",
    "\n",
    "# 新冠\n",
    "https://tding.top/archives/e1eb25a0.html\n",
    "* BlankerL 提供的爬虫与数据仓库\n",
    "\n",
    "# 二手房\n",
    "https://segmentfault.com/a/1190000015440560\n",
    "\n",
    "# 火车票\n",
    "* 12306.py:用Python抢火车票简单代码"
   ]
  }
 ],
 "metadata": {
  "kernelspec": {
   "display_name": "Python 3",
   "language": "python",
   "name": "python3"
  },
  "language_info": {
   "codemirror_mode": {
    "name": "ipython",
    "version": 3
   },
   "file_extension": ".py",
   "mimetype": "text/x-python",
   "name": "python",
   "nbconvert_exporter": "python",
   "pygments_lexer": "ipython3",
   "version": "3.7.3"
  },
  "toc": {
   "base_numbering": 1,
   "nav_menu": {},
   "number_sections": true,
   "sideBar": true,
   "skip_h1_title": false,
   "title_cell": "Table of Contents",
   "title_sidebar": "Contents",
   "toc_cell": false,
   "toc_position": {},
   "toc_section_display": true,
   "toc_window_display": false
  }
 },
 "nbformat": 4,
 "nbformat_minor": 4
}
